{
 "cells": [
  {
   "cell_type": "markdown",
   "id": "3c08c289",
   "metadata": {},
   "source": [
    "## 0. Initialize"
   ]
  },
  {
   "cell_type": "code",
   "execution_count": 1,
   "id": "94a41aed",
   "metadata": {},
   "outputs": [
    {
     "name": "stdout",
     "output_type": "stream",
     "text": [
      "No data exist!\n"
     ]
    },
    {
     "ename": "NameError",
     "evalue": "name 'exit' is not defined",
     "output_type": "error",
     "traceback": [
      "\u001b[0;31m---------------------------------------------------------------------------\u001b[0m",
      "\u001b[0;31mNameError\u001b[0m                                 Traceback (most recent call last)",
      "Input \u001b[0;32mIn [1]\u001b[0m, in \u001b[0;36m<module>\u001b[0;34m\u001b[0m\n\u001b[1;32m      9\u001b[0m CLUSTER_TOPK_CONST \u001b[38;5;241m=\u001b[39m \u001b[38;5;241m30\u001b[39m\n\u001b[1;32m     11\u001b[0m pr \u001b[38;5;241m=\u001b[39m initialize_from_task(\u001b[38;5;124m'\u001b[39m\u001b[38;5;124mdblp0614\u001b[39m\u001b[38;5;124m'\u001b[39m)\n\u001b[0;32m---> 12\u001b[0m \u001b[43mpr\u001b[49m\u001b[38;5;241;43m.\u001b[39;49m\u001b[43mlaunch\u001b[49m\u001b[43m(\u001b[49m\u001b[43m)\u001b[49m\n",
      "File \u001b[0;32m~/Documents/dj/research/interactive-embedding/interactive-embedding-server/api/project.py:159\u001b[0m, in \u001b[0;36mProject.launch\u001b[0;34m(self)\u001b[0m\n\u001b[1;32m    157\u001b[0m \u001b[38;5;28;01melse\u001b[39;00m:\n\u001b[1;32m    158\u001b[0m     \u001b[38;5;28mprint\u001b[39m(\u001b[38;5;124m\"\u001b[39m\u001b[38;5;124mNo data exist!\u001b[39m\u001b[38;5;124m\"\u001b[39m)\n\u001b[0;32m--> 159\u001b[0m     \u001b[43mexit\u001b[49m(\u001b[38;5;241m1\u001b[39m)\n\u001b[1;32m    161\u001b[0m \u001b[38;5;28mself\u001b[39m\u001b[38;5;241m.\u001b[39mH \u001b[38;5;241m=\u001b[39m np\u001b[38;5;241m.\u001b[39mconcatenate((\u001b[38;5;28mself\u001b[39m\u001b[38;5;241m.\u001b[39memb_mat_dict[\u001b[38;5;124m'\u001b[39m\u001b[38;5;124mHa\u001b[39m\u001b[38;5;124m'\u001b[39m], \\\n\u001b[1;32m    162\u001b[0m     \u001b[38;5;28mself\u001b[39m\u001b[38;5;241m.\u001b[39memb_mat_dict[\u001b[38;5;124m'\u001b[39m\u001b[38;5;124mHd\u001b[39m\u001b[38;5;124m'\u001b[39m], \\\n\u001b[1;32m    163\u001b[0m     \u001b[38;5;28mself\u001b[39m\u001b[38;5;241m.\u001b[39memb_mat_dict[\u001b[38;5;124m'\u001b[39m\u001b[38;5;124mHw\u001b[39m\u001b[38;5;124m'\u001b[39m]), axis \u001b[38;5;241m=\u001b[39m \u001b[38;5;241m0\u001b[39m)\n\u001b[1;32m    164\u001b[0m \u001b[38;5;28mself\u001b[39m\u001b[38;5;241m.\u001b[39mH_tsne \u001b[38;5;241m=\u001b[39m np\u001b[38;5;241m.\u001b[39mconcatenate((\u001b[38;5;28mself\u001b[39m\u001b[38;5;241m.\u001b[39memb_mat_dict[\u001b[38;5;124m'\u001b[39m\u001b[38;5;124mHa_tsne\u001b[39m\u001b[38;5;124m'\u001b[39m], \\\n\u001b[1;32m    165\u001b[0m     \u001b[38;5;28mself\u001b[39m\u001b[38;5;241m.\u001b[39memb_mat_dict[\u001b[38;5;124m'\u001b[39m\u001b[38;5;124mHd_tsne\u001b[39m\u001b[38;5;124m'\u001b[39m], \\\n\u001b[1;32m    166\u001b[0m     \u001b[38;5;28mself\u001b[39m\u001b[38;5;241m.\u001b[39memb_mat_dict[\u001b[38;5;124m'\u001b[39m\u001b[38;5;124mHw_tsne\u001b[39m\u001b[38;5;124m'\u001b[39m]), axis \u001b[38;5;241m=\u001b[39m \u001b[38;5;241m0\u001b[39m)\n",
      "\u001b[0;31mNameError\u001b[0m: name 'exit' is not defined"
     ]
    }
   ],
   "source": [
    "from project import initialize_from_task, colors\n",
    "import numpy as np\n",
    "from sklearn.manifold import TSNE\n",
    "from sklearn.decomposition import PCA\n",
    "from scipy.spatial.distance import cdist\n",
    "\n",
    "EXP_VAR_CONST = 1.5\n",
    "EXP_VAR_CONST_ZOOM = 1\n",
    "CLUSTER_TOPK_CONST = 30\n",
    "\n",
    "pr = initialize_from_task('dblp0614')\n",
    "pr.launch()"
   ]
  },
  {
   "cell_type": "markdown",
   "id": "420b7dfa",
   "metadata": {},
   "source": [
    "## 1. Initial Visualization"
   ]
  },
  {
   "cell_type": "code",
   "execution_count": null,
   "id": "2b4626f6",
   "metadata": {},
   "outputs": [],
   "source": []
  }
 ],
 "metadata": {
  "kernelspec": {
   "display_name": "Python 3 (ipykernel)",
   "language": "python",
   "name": "python3"
  },
  "language_info": {
   "codemirror_mode": {
    "name": "ipython",
    "version": 3
   },
   "file_extension": ".py",
   "mimetype": "text/x-python",
   "name": "python",
   "nbconvert_exporter": "python",
   "pygments_lexer": "ipython3",
   "version": "3.8.3"
  }
 },
 "nbformat": 4,
 "nbformat_minor": 5
}
